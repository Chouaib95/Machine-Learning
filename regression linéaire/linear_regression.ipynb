{
 "cells": [
  {
   "cell_type": "markdown",
   "id": "b74a445c-3aa1-4c3d-92a3-a403538f991b",
   "metadata": {
    "tags": []
   },
   "source": [
    "# Regression Linéaire avec Numpy :\n",
    "* https://machinelearnia.com/regression-lineaire-python/ *\n"
   ]
  },
  {
   "cell_type": "code",
   "execution_count": 42,
   "id": "61b1ef65-2d44-42ba-8af5-5f25e10fca97",
   "metadata": {},
   "outputs": [],
   "source": [
    "import numpy as np\n",
    "from sklearn.datasets import make_regression\n",
    "import matplotlib.pyplot as plt"
   ]
  },
  {
   "cell_type": "markdown",
   "id": "886b6671-a9b8-467b-865c-d18dd90af5b2",
   "metadata": {},
   "source": [
    "## 1. DataSet :"
   ]
  },
  {
   "cell_type": "code",
   "execution_count": 43,
   "id": "e379e10b-32d8-4623-b9d5-e6da10d2c0c2",
   "metadata": {
    "tags": []
   },
   "outputs": [
    {
     "data": {
      "text/plain": [
       "<matplotlib.collections.PathCollection at 0x2c7afba27d0>"
      ]
     },
     "execution_count": 43,
     "metadata": {},
     "output_type": "execute_result"
    },
    {
     "data": {
      "image/png": "[encoded data removed]",
      "text/plain": [
       "<Figure size 640x480 with 1 Axes>"
      ]
     },
     "metadata": {},
     "output_type": "display_data"
    }
   ],
   "source": [
    "x,y = make_regression(n_samples = 100 , n_features = 1 , noise = 20)\n",
    "plt.scatter(x, y)"
   ]
  },
  {
   "cell_type": "markdown",
   "id": "f3721ac8-7292-497f-80e2-4ec593e65ee1",
   "metadata": {
    "tags": []
   },
   "source": [
    "On vérifie les dimensions de nos matrices générées :"
   ]
  },
  {
   "cell_type": "code",
   "execution_count": 44,
   "id": "4a25b4d2-b212-4de8-97f3-09bc3d7e0c97",
   "metadata": {
    "tags": []
   },
   "outputs": [
    {
     "name": "stdout",
     "output_type": "stream",
     "text": [
      "(100, 1)\n",
      "(100,)\n",
      "(100, 1)\n"
     ]
    }
   ],
   "source": [
    "print(x.shape) #return a tuple (ligne,column)\n",
    "print(y.shape)\n",
    "y = y.reshape(y.shape[0], 1) # il est vivement conseillé de redéfinir les dimensions de la matrice y\n",
    "print(y.shape)"
   ]
  },
  {
   "cell_type": "markdown",
   "id": "57adbd7f-a9e4-4b5d-bf39-a2a72cf1c495",
   "metadata": {},
   "source": [
    "**On construit une matrice 'X' qui sera la matrice 'x' avec la colonne de biais:**(on utilise l'horizontal stack de numpy pour coller les 2 matrices)"
   ]
  },
  {
   "cell_type": "code",
   "execution_count": 45,
   "id": "4dfe1a7e-6ed5-4c9a-b59c-2dfef1445d55",
   "metadata": {
    "tags": []
   },
   "outputs": [
    {
     "name": "stdout",
     "output_type": "stream",
     "text": [
      "(100, 2)\n",
      "[[ 0.43625893  1.        ]\n",
      " [-1.35665743  1.        ]\n",
      " [ 0.36037799  1.        ]\n",
      " [-0.06713538  1.        ]\n",
      " [ 0.34418751  1.        ]\n",
      " [ 0.02181257  1.        ]\n",
      " [ 1.00530829  1.        ]\n",
      " [-0.49076481  1.        ]\n",
      " [-0.22229987  1.        ]\n",
      " [-1.30576501  1.        ]\n",
      " [ 0.44564302  1.        ]\n",
      " [ 0.00336975  1.        ]\n",
      " [-1.17175482  1.        ]\n",
      " [ 0.74208921  1.        ]\n",
      " [-0.01522924  1.        ]\n",
      " [ 0.3938042   1.        ]\n",
      " [ 0.63437863  1.        ]\n",
      " [-1.6921675   1.        ]\n",
      " [ 0.64858535  1.        ]\n",
      " [-1.86852259  1.        ]\n",
      " [-0.640866    1.        ]\n",
      " [ 1.03034827  1.        ]\n",
      " [ 0.99385401  1.        ]\n",
      " [ 1.77636924  1.        ]\n",
      " [ 0.86223697  1.        ]\n",
      " [-0.48048438  1.        ]\n",
      " [ 1.67831107  1.        ]\n",
      " [ 0.47792935  1.        ]\n",
      " [ 0.17034545  1.        ]\n",
      " [ 0.14069344  1.        ]\n",
      " [ 0.48929221  1.        ]\n",
      " [ 1.23892196  1.        ]\n",
      " [-0.35758497  1.        ]\n",
      " [ 1.184506    1.        ]\n",
      " [-0.73500544  1.        ]\n",
      " [-2.39828277  1.        ]\n",
      " [-0.02574397  1.        ]\n",
      " [ 0.50656006  1.        ]\n",
      " [ 0.35446475  1.        ]\n",
      " [-0.4872051   1.        ]\n",
      " [ 0.17177414  1.        ]\n",
      " [ 0.16790447  1.        ]\n",
      " [-0.06673774  1.        ]\n",
      " [ 0.90522885  1.        ]\n",
      " [ 0.03053628  1.        ]\n",
      " [-1.01267853  1.        ]\n",
      " [-1.31157399  1.        ]\n",
      " [-0.3001838   1.        ]\n",
      " [-1.24565841  1.        ]\n",
      " [-1.15924456  1.        ]\n",
      " [-0.90689796  1.        ]\n",
      " [-0.34747021  1.        ]\n",
      " [-1.29084671  1.        ]\n",
      " [ 0.22276499  1.        ]\n",
      " [-0.04758101  1.        ]\n",
      " [ 0.03272511  1.        ]\n",
      " [-0.32001731  1.        ]\n",
      " [-1.92477494  1.        ]\n",
      " [ 0.7786899   1.        ]\n",
      " [-0.80935704  1.        ]\n",
      " [ 1.55289377  1.        ]\n",
      " [ 2.30091821  1.        ]\n",
      " [ 0.78647248  1.        ]\n",
      " [ 0.21163472  1.        ]\n",
      " [-1.16718898  1.        ]\n",
      " [ 0.38805802  1.        ]\n",
      " [ 1.12204387  1.        ]\n",
      " [ 0.66089652  1.        ]\n",
      " [-1.60220855  1.        ]\n",
      " [-0.91471001  1.        ]\n",
      " [ 1.53437662  1.        ]\n",
      " [-0.09420986  1.        ]\n",
      " [ 1.37738136  1.        ]\n",
      " [-1.22762175  1.        ]\n",
      " [-0.13995393  1.        ]\n",
      " [ 0.74728019  1.        ]\n",
      " [ 0.76338857  1.        ]\n",
      " [ 0.7878518   1.        ]\n",
      " [ 0.19107001  1.        ]\n",
      " [-0.61672275  1.        ]\n",
      " [ 1.10238384  1.        ]\n",
      " [-1.68116266  1.        ]\n",
      " [-0.21539153  1.        ]\n",
      " [ 0.21308621  1.        ]\n",
      " [-0.95818156  1.        ]\n",
      " [ 0.81322453  1.        ]\n",
      " [ 0.7853747   1.        ]\n",
      " [-1.26988056  1.        ]\n",
      " [-1.16743985  1.        ]\n",
      " [ 0.51551643  1.        ]\n",
      " [ 0.86132608  1.        ]\n",
      " [-0.21310493  1.        ]\n",
      " [-0.11601736  1.        ]\n",
      " [ 0.14051281  1.        ]\n",
      " [-0.37722609  1.        ]\n",
      " [ 1.30992779  1.        ]\n",
      " [ 0.60443484  1.        ]\n",
      " [ 0.08182183  1.        ]\n",
      " [ 0.01833253  1.        ]\n",
      " [-0.1233859   1.        ]]\n"
     ]
    }
   ],
   "source": [
    "X = np.hstack((x,np.ones(x.shape)))\n",
    "print(X.shape)\n",
    "print(X)"
   ]
  },
  {
   "cell_type": "markdown",
   "id": "56a80545-73a2-492a-8010-e7a908367f38",
   "metadata": {},
   "source": [
    "**On définit le vecteur qui caractérise notre modèle linéaire y = ax+b :**\n"
   ]
  },
  {
   "cell_type": "code",
   "execution_count": 46,
   "id": "9ce9d16e-bc59-4ac1-8a48-4e2874ea728d",
   "metadata": {},
   "outputs": [
    {
     "data": {
      "text/plain": [
       "array([[0.7083633 ],\n",
       "       [0.32148895]])"
      ]
     },
     "execution_count": 46,
     "metadata": {},
     "output_type": "execute_result"
    }
   ],
   "source": [
    "theta = np.random.randn(2,1) #on initialise le vecteur Theta par des valuers aléatoires :\n",
    "theta"
   ]
  },
  {
   "cell_type": "markdown",
   "id": "5f33f7c6-e0f8-49b5-9dd9-a68b1623c927",
   "metadata": {},
   "source": [
    "## 2. Contruction du modèle linéaire : F=X.θ"
   ]
  },
  {
   "cell_type": "code",
   "execution_count": 47,
   "id": "f9a9b0b3-470c-4dca-8282-4537d095f518",
   "metadata": {
    "tags": []
   },
   "outputs": [],
   "source": [
    "def model (X, theta):\n",
    "    return X.dot(theta)"
   ]
  },
  {
   "cell_type": "code",
   "execution_count": 48,
   "id": "faff9398-9560-4d22-862c-26ec5fdfa4e7",
   "metadata": {
    "tags": []
   },
   "outputs": [
    {
     "data": {
      "text/plain": [
       "array([[ 0.63051877],\n",
       "       [-0.63951738],\n",
       "       [ 0.57676749],\n",
       "       [ 0.27393271],\n",
       "       [ 0.56529875],\n",
       "       [ 0.33694017],\n",
       "       [ 1.03361245],\n",
       "       [-0.02615083],\n",
       "       [ 0.16401988],\n",
       "       [-0.60346706],\n",
       "       [ 0.63716611],\n",
       "       [ 0.32387596],\n",
       "       [-0.50853916],\n",
       "       [ 0.84715772],\n",
       "       [ 0.31070111],\n",
       "       [ 0.6004454 ],\n",
       "       [ 0.77085949],\n",
       "       [-0.8771804 ],\n",
       "       [ 0.78092301],\n",
       "       [-1.00210387],\n",
       "       [-0.132477  ],\n",
       "       [ 1.05134985],\n",
       "       [ 1.02549866],\n",
       "       [ 1.57980373],\n",
       "       [ 0.93226598],\n",
       "       [-0.01886855],\n",
       "       [ 1.51034292],\n",
       "       [ 0.66003657],\n",
       "       [ 0.44215542],\n",
       "       [ 0.42115102],\n",
       "       [ 0.6680856 ],\n",
       "       [ 1.1990958 ],\n",
       "       [ 0.06818888],\n",
       "       [ 1.16054953],\n",
       "       [-0.19916193],\n",
       "       [-1.37736654],\n",
       "       [ 0.30325287],\n",
       "       [ 0.68031751],\n",
       "       [ 0.57257877],\n",
       "       [-0.02362926],\n",
       "       [ 0.44316745],\n",
       "       [ 0.44042632],\n",
       "       [ 0.27421439],\n",
       "       [ 0.96271985],\n",
       "       [ 0.34311973],\n",
       "       [-0.39585535],\n",
       "       [-0.60758193],\n",
       "       [ 0.10884977],\n",
       "       [-0.56088975],\n",
       "       [-0.49967735],\n",
       "       [-0.32092428],\n",
       "       [ 0.07535381],\n",
       "       [-0.59289949],\n",
       "       [ 0.47928749],\n",
       "       [ 0.28778431],\n",
       "       [ 0.34467022],\n",
       "       [ 0.09480043],\n",
       "       [-1.04195097],\n",
       "       [ 0.8730843 ],\n",
       "       [-0.25182987],\n",
       "       [ 1.42150191],\n",
       "       [ 1.95137497],\n",
       "       [ 0.87859719],\n",
       "       [ 0.47140322],\n",
       "       [-0.50530488],\n",
       "       [ 0.59637501],\n",
       "       [ 1.11630365],\n",
       "       [ 0.78964379],\n",
       "       [-0.81345678],\n",
       "       [-0.32645805],\n",
       "       [ 1.40838504],\n",
       "       [ 0.25475414],\n",
       "       [ 1.29717536],\n",
       "       [-0.54811324],\n",
       "       [ 0.22235073],\n",
       "       [ 0.85083481],\n",
       "       [ 0.8622454 ],\n",
       "       [ 0.87957425],\n",
       "       [ 0.45683594],\n",
       "       [-0.11537481],\n",
       "       [ 1.1023772 ],\n",
       "       [-0.86938498],\n",
       "       [ 0.1689135 ],\n",
       "       [ 0.4724314 ],\n",
       "       [-0.3572517 ],\n",
       "       [ 0.89754737],\n",
       "       [ 0.87781956],\n",
       "       [-0.57804783],\n",
       "       [-0.50548259],\n",
       "       [ 0.68666188],\n",
       "       [ 0.93162074],\n",
       "       [ 0.17053324],\n",
       "       [ 0.23930651],\n",
       "       [ 0.42102307],\n",
       "       [ 0.05427583],\n",
       "       [ 1.24939372],\n",
       "       [ 0.74964841],\n",
       "       [ 0.37944853],\n",
       "       [ 0.33447504],\n",
       "       [ 0.23408691]])"
      ]
     },
     "execution_count": 48,
     "metadata": {},
     "output_type": "execute_result"
    }
   ],
   "source": [
    "model(X,theta) # on teste la fonction model pour voir si on n'a pas fait d'erreur"
   ]
  },
  {
   "cell_type": "code",
   "execution_count": 49,
   "id": "77cdc420-f959-4419-9ffa-3a9743baf6e2",
   "metadata": {},
   "outputs": [
    {
     "data": {
      "text/plain": [
       "<matplotlib.collections.PathCollection at 0x2c7afc6c350>"
      ]
     },
     "execution_count": 49,
     "metadata": {},
     "output_type": "execute_result"
    },
    {
     "data": {
      "image/png": "[encoded data removed]",
      "text/plain": [
       "<Figure size 640x480 with 1 Axes>"
      ]
     },
     "metadata": {},
     "output_type": "display_data"
    }
   ],
   "source": [
    "plt.plot(x , model(X,theta), color = 'r')\n",
    "plt.scatter(x,y)"
   ]
  },
  {
   "cell_type": "markdown",
   "id": "f5ff37a0-0dd8-421e-8c5a-c8294910afef",
   "metadata": {},
   "source": [
    "==> la pente dépend du paramètre **a** choisi aléatoirement en haut."
   ]
  },
  {
   "cell_type": "markdown",
   "id": "33b6ed06-8fb8-46de-83b4-cb3f4f01c6c8",
   "metadata": {},
   "source": [
    "## 3. La fonction Coût : (l'erreur quadratique moyenne)"
   ]
  },
  {
   "cell_type": "code",
   "execution_count": 50,
   "id": "561b589d-a764-4edc-88c9-8a60dab17971",
   "metadata": {},
   "outputs": [],
   "source": [
    "def cost_function (X, y, theta) :\n",
    "    m = len(y)\n",
    "    return 1/(2*m) * np.sum((model(X, theta) - y) **2)\n",
    "    \n",
    "    "
   ]
  },
  {
   "cell_type": "code",
   "execution_count": 51,
   "id": "961e40d7-3486-4ba4-991c-424c695adb64",
   "metadata": {},
   "outputs": [
    {
     "data": {
      "text/plain": [
       "554.0411880899519"
      ]
     },
     "execution_count": 51,
     "metadata": {},
     "output_type": "execute_result"
    }
   ],
   "source": [
    "cost_function(X,y,theta)"
   ]
  },
  {
   "cell_type": "markdown",
   "id": "ecef50e0-8962-4a51-96ce-e30040b75316",
   "metadata": {},
   "source": [
    "## 4. Gradients et Descente de gradients :"
   ]
  },
  {
   "cell_type": "code",
   "execution_count": 52,
   "id": "3be8f126-83f3-4298-8cba-e2c88a555616",
   "metadata": {},
   "outputs": [],
   "source": [
    "def grad(X, y, theta):\n",
    "    m = len(y)\n",
    "    return 1/m * X.T.dot(model(X,theta) - y)\n",
    "    "
   ]
  },
  {
   "cell_type": "code",
   "execution_count": 53,
   "id": "c05119f8-3ec8-4c5f-83d1-ebdd6ff855da",
   "metadata": {},
   "outputs": [],
   "source": [
    "def gradient_descent(X, y, theta, learning_rate=0.01, n_iterations=1000):  #parametres par defaut  0.01 et 1000\n",
    "\n",
    "    cost_history = np.zeros(n_iterations)#  pour la courbe d'apprentissage\n",
    "    for i in range (0,n_iterations) :\n",
    "        theta = theta - learning_rate * grad(X, y, theta)\n",
    "        cost_history[i] = cost_function(X,y,theta)\n",
    "        \n",
    "    return theta, cost_history , n_iterations\n",
    "    "
   ]
  },
  {
   "cell_type": "markdown",
   "id": "ae3e2295-17bf-40fb-bd97-67159e0dca34",
   "metadata": {
    "tags": []
   },
   "source": [
    "## 5. Machine Leaning :\n"
   ]
  },
  {
   "cell_type": "code",
   "execution_count": 54,
   "id": "1978df2b-0d7a-4678-97c5-d5b611eaadad",
   "metadata": {},
   "outputs": [],
   "source": [
    "theta_final, cost_history,n_iterations = gradient_descent(X,y,theta,learning_rate=0.01,n_iterations=1000) #passage d'arguments"
   ]
  },
  {
   "cell_type": "code",
   "execution_count": 55,
   "id": "b1ef4c1f-9972-4f63-a947-6a55aa57805e",
   "metadata": {},
   "outputs": [
    {
     "name": "stdout",
     "output_type": "stream",
     "text": [
      "[[29.87558556]\n",
      " [ 0.28002456]]\n"
     ]
    }
   ],
   "source": [
    "print(theta_final)"
   ]
  },
  {
   "cell_type": "code",
   "execution_count": 56,
   "id": "0a1165f8-7b2b-468a-85ef-9195283c2a4e",
   "metadata": {},
   "outputs": [],
   "source": [
    "predictions = model(X,theta_final)"
   ]
  },
  {
   "cell_type": "code",
   "execution_count": 57,
   "id": "206afdf8-b515-4598-9382-b9f97209b052",
   "metadata": {},
   "outputs": [
    {
     "data": {
      "text/plain": [
       "[<matplotlib.lines.Line2D at 0x2c7afc6cd90>]"
      ]
     },
     "execution_count": 57,
     "metadata": {},
     "output_type": "execute_result"
    },
    {
     "data": {
      "image/png": "[encoded data removed]",
      "text/plain": [
       "<Figure size 640x480 with 1 Axes>"
      ]
     },
     "metadata": {},
     "output_type": "display_data"
    }
   ],
   "source": [
    "#Comparaison du modèle avec le dataset :\n",
    "\n",
    "plt.scatter(x,y)\n",
    "plt.plot(x,predictions,color='r')"
   ]
  },
  {
   "cell_type": "code",
   "execution_count": 58,
   "id": "aea97cfa-2d9d-4114-a04a-ae8292c14152",
   "metadata": {},
   "outputs": [
    {
     "name": "stdout",
     "output_type": "stream",
     "text": [
      "le modèle final est y = [29.87558556]* x + [0.28002456]\n"
     ]
    }
   ],
   "source": [
    "print(f\"le modèle final est y = {str(theta_final[0])}* x + {str(theta_final[1])}\")"
   ]
  },
  {
   "cell_type": "markdown",
   "id": "92fa1267",
   "metadata": {},
   "source": [
    "## 5.1 Courbe d'apprentissage :\n"
   ]
  },
  {
   "cell_type": "code",
   "execution_count": 59,
   "id": "49ec7986",
   "metadata": {},
   "outputs": [
    {
     "data": {
      "text/plain": [
       "[<matplotlib.lines.Line2D at 0x2c7afcdad90>]"
      ]
     },
     "execution_count": 59,
     "metadata": {},
     "output_type": "execute_result"
    },
    {
     "data": {
      "image/png": "[encoded data removed]",
      "text/plain": [
       "<Figure size 640x480 with 1 Axes>"
      ]
     },
     "metadata": {},
     "output_type": "display_data"
    }
   ],
   "source": [
    "plt.plot(np.arange(n_iterations), cost_history) #il faut que les 2 variable aient la meme dimension"
   ]
  },
  {
   "cell_type": "markdown",
   "id": "fa005789",
   "metadata": {},
   "source": [
    "## 5.2 Coefficient de determination :"
   ]
  },
  {
   "cell_type": "markdown",
   "id": "7413bd0a",
   "metadata": {},
   "source": [
    "![Alt text](image.png)"
   ]
  },
  {
   "cell_type": "markdown",
   "id": "db293c69",
   "metadata": {},
   "source": [
    "En bref :"
   ]
  },
  {
   "cell_type": "markdown",
   "id": "8a98fc3f",
   "metadata": {},
   "source": [
    "![Alt text](image-1.png)"
   ]
  },
  {
   "cell_type": "code",
   "execution_count": 60,
   "id": "c9c2458b",
   "metadata": {},
   "outputs": [],
   "source": [
    "def coef_determination (y, predictions):\n",
    "    u = ((y - predictions)**2).sum()\n",
    "    v = ((y - y.mean())**2).sum()\n",
    "    return f\"{round((1 - u/v)*100),2}%\""
   ]
  },
  {
   "cell_type": "markdown",
   "id": "dd43e41f",
   "metadata": {},
   "source": []
  },
  {
   "cell_type": "code",
   "execution_count": 61,
   "id": "300b2dfd",
   "metadata": {},
   "outputs": [
    {
     "data": {
      "text/plain": [
       "'(66, 2)%'"
      ]
     },
     "execution_count": 61,
     "metadata": {},
     "output_type": "execute_result"
    }
   ],
   "source": [
    "coef_determination (y, predictions)"
   ]
  },
  {
   "cell_type": "code",
   "execution_count": null,
   "id": "759d4373",
   "metadata": {},
   "outputs": [],
   "source": []
  }
 ],
 "metadata": {
  "kernelspec": {
   "display_name": "Python 3",
   "language": "python",
   "name": "python3"
  },
  "language_info": {
   "codemirror_mode": {
    "name": "ipython",
    "version": 3
   },
   "file_extension": ".py",
   "mimetype": "text/x-python",
   "name": "python",
   "nbconvert_exporter": "python",
   "pygments_lexer": "ipython3",
   "version": "3.11.0"
  }
 },
 "nbformat": 4,
 "nbformat_minor": 5
}
