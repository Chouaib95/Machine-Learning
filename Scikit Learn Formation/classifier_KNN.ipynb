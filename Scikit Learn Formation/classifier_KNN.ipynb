{
 "cells": [
  {
   "cell_type": "markdown",
   "metadata": {},
   "source": [
    "## Projet de classification, survivant du Titanic:"
   ]
  },
  {
   "cell_type": "code",
   "execution_count": 11,
   "metadata": {},
   "outputs": [],
   "source": [
    "import pandas as pd\n",
    "import seaborn as sns"
   ]
  },
  {
   "cell_type": "markdown",
   "metadata": {},
   "source": [
    "Import du Dataset depuis le jeux de données Seaborn :"
   ]
  },
  {
   "cell_type": "code",
   "execution_count": 12,
   "metadata": {},
   "outputs": [
    {
     "name": "stdout",
     "output_type": "stream",
     "text": [
      "(891, 15)\n"
     ]
    },
    {
     "data": {
      "text/html": [
       "<div>\n",
       "<style scoped>\n",
       "    .dataframe tbody tr th:only-of-type {\n",
       "        vertical-align: middle;\n",
       "    }\n",
       "\n",
       "    .dataframe tbody tr th {\n",
       "        vertical-align: top;\n",
       "    }\n",
       "\n",
       "    .dataframe thead th {\n",
       "        text-align: right;\n",
       "    }\n",
       "</style>\n",
       "<table border=\"1\" class=\"dataframe\">\n",
       "  <thead>\n",
       "    <tr style=\"text-align: right;\">\n",
       "      <th></th>\n",
       "      <th>survived</th>\n",
       "      <th>pclass</th>\n",
       "      <th>sex</th>\n",
       "      <th>age</th>\n",
       "      <th>sibsp</th>\n",
       "      <th>parch</th>\n",
       "      <th>fare</th>\n",
       "      <th>embarked</th>\n",
       "      <th>class</th>\n",
       "      <th>who</th>\n",
       "      <th>adult_male</th>\n",
       "      <th>deck</th>\n",
       "      <th>embark_town</th>\n",
       "      <th>alive</th>\n",
       "      <th>alone</th>\n",
       "    </tr>\n",
       "  </thead>\n",
       "  <tbody>\n",
       "    <tr>\n",
       "      <th>0</th>\n",
       "      <td>0</td>\n",
       "      <td>3</td>\n",
       "      <td>male</td>\n",
       "      <td>22.0</td>\n",
       "      <td>1</td>\n",
       "      <td>0</td>\n",
       "      <td>7.2500</td>\n",
       "      <td>S</td>\n",
       "      <td>Third</td>\n",
       "      <td>man</td>\n",
       "      <td>True</td>\n",
       "      <td>NaN</td>\n",
       "      <td>Southampton</td>\n",
       "      <td>no</td>\n",
       "      <td>False</td>\n",
       "    </tr>\n",
       "    <tr>\n",
       "      <th>1</th>\n",
       "      <td>1</td>\n",
       "      <td>1</td>\n",
       "      <td>female</td>\n",
       "      <td>38.0</td>\n",
       "      <td>1</td>\n",
       "      <td>0</td>\n",
       "      <td>71.2833</td>\n",
       "      <td>C</td>\n",
       "      <td>First</td>\n",
       "      <td>woman</td>\n",
       "      <td>False</td>\n",
       "      <td>C</td>\n",
       "      <td>Cherbourg</td>\n",
       "      <td>yes</td>\n",
       "      <td>False</td>\n",
       "    </tr>\n",
       "    <tr>\n",
       "      <th>2</th>\n",
       "      <td>1</td>\n",
       "      <td>3</td>\n",
       "      <td>female</td>\n",
       "      <td>26.0</td>\n",
       "      <td>0</td>\n",
       "      <td>0</td>\n",
       "      <td>7.9250</td>\n",
       "      <td>S</td>\n",
       "      <td>Third</td>\n",
       "      <td>woman</td>\n",
       "      <td>False</td>\n",
       "      <td>NaN</td>\n",
       "      <td>Southampton</td>\n",
       "      <td>yes</td>\n",
       "      <td>True</td>\n",
       "    </tr>\n",
       "    <tr>\n",
       "      <th>3</th>\n",
       "      <td>1</td>\n",
       "      <td>1</td>\n",
       "      <td>female</td>\n",
       "      <td>35.0</td>\n",
       "      <td>1</td>\n",
       "      <td>0</td>\n",
       "      <td>53.1000</td>\n",
       "      <td>S</td>\n",
       "      <td>First</td>\n",
       "      <td>woman</td>\n",
       "      <td>False</td>\n",
       "      <td>C</td>\n",
       "      <td>Southampton</td>\n",
       "      <td>yes</td>\n",
       "      <td>False</td>\n",
       "    </tr>\n",
       "    <tr>\n",
       "      <th>4</th>\n",
       "      <td>0</td>\n",
       "      <td>3</td>\n",
       "      <td>male</td>\n",
       "      <td>35.0</td>\n",
       "      <td>0</td>\n",
       "      <td>0</td>\n",
       "      <td>8.0500</td>\n",
       "      <td>S</td>\n",
       "      <td>Third</td>\n",
       "      <td>man</td>\n",
       "      <td>True</td>\n",
       "      <td>NaN</td>\n",
       "      <td>Southampton</td>\n",
       "      <td>no</td>\n",
       "      <td>True</td>\n",
       "    </tr>\n",
       "  </tbody>\n",
       "</table>\n",
       "</div>"
      ],
      "text/plain": [
       "   survived  pclass     sex   age  sibsp  parch     fare embarked  class   \n",
       "0         0       3    male  22.0      1      0   7.2500        S  Third  \\\n",
       "1         1       1  female  38.0      1      0  71.2833        C  First   \n",
       "2         1       3  female  26.0      0      0   7.9250        S  Third   \n",
       "3         1       1  female  35.0      1      0  53.1000        S  First   \n",
       "4         0       3    male  35.0      0      0   8.0500        S  Third   \n",
       "\n",
       "     who  adult_male deck  embark_town alive  alone  \n",
       "0    man        True  NaN  Southampton    no  False  \n",
       "1  woman       False    C    Cherbourg   yes  False  \n",
       "2  woman       False  NaN  Southampton   yes   True  \n",
       "3  woman       False    C  Southampton   yes  False  \n",
       "4    man        True  NaN  Southampton    no   True  "
      ]
     },
     "execution_count": 12,
     "metadata": {},
     "output_type": "execute_result"
    }
   ],
   "source": [
    "titanic  = sns.load_dataset('titanic')\n",
    "print(titanic.shape)\n",
    "titanic.head(5)"
   ]
  },
  {
   "cell_type": "markdown",
   "metadata": {},
   "source": [
    "### Nettoyage et filtrage du Dataset "
   ]
  },
  {
   "cell_type": "markdown",
   "metadata": {},
   "source": [
    "dropna est une méthode pandas utilisée pour supprimer les lignes ou les colonnes contenant des valeurs manquantes (NaN).\n",
    "\n",
    "axis=0 indique que vous souhaitez supprimer des lignes. En d'autres termes, vous allez parcourir le DataFrame et supprimer toutes les lignes qui contiennent au moins une valeur manquante.\n",
    "\n",
    "inplace=True signifie que vous souhaitez effectuer cette opération de suppression directement sur le DataFrame titanic plutôt que de renvoyer une copie du DataFrame modifié. Cela modifie le DataFrame titanic lui-même."
   ]
  },
  {
   "cell_type": "code",
   "execution_count": 14,
   "metadata": {},
   "outputs": [
    {
     "name": "stdout",
     "output_type": "stream",
     "text": [
      "   survived  pclass     sex   age\n",
      "0         0       3    male  22.0\n",
      "1         1       1  female  38.0\n",
      "2         1       3  female  26.0 \n",
      "\n",
      "Dataset modifié :\n",
      "    survived  pclass  sex   age\n",
      "0         0       3    0  22.0\n",
      "1         1       1    1  38.0\n",
      "2         1       3    1  26.0\n"
     ]
    }
   ],
   "source": [
    "titanic = titanic.loc[:,[ 'survived', 'pclass', 'sex', 'age' ]]  # ou # titanic = titanic[ 'survived', 'pclass', 'sex', 'age' ]] plus raccourcis\n",
    "print(titanic.head(3),'\\n')\n",
    "titanic.dropna(axis =0 ,inplace =True)\n",
    "titanic['sex'].replace(['male', 'female'],[0, 1],inplace = True)\n",
    "print(\"Dataset modifié :\\n\",titanic.head(3))\n"
   ]
  },
  {
   "cell_type": "markdown",
   "metadata": {},
   "source": [
    "On importe un estimateur en regardant la carte d'algorithmes de sckit Learn : KN neighbors"
   ]
  },
  {
   "cell_type": "code",
   "execution_count": null,
   "metadata": {},
   "outputs": [],
   "source": [
    "from sklearn.neighbors import KNeighborsClassifier\n",
    "import numpy as np\n",
    "from warnings import filterwarnings"
   ]
  },
  {
   "cell_type": "markdown",
   "metadata": {},
   "source": [
    "le modele doit être entrainé sur des données de type (x,y) on va subdiviser le tableau en 2 tableaux: **(features=reste du taleau, target=survived)** :"
   ]
  },
  {
   "cell_type": "markdown",
   "metadata": {},
   "source": [
    "L'hyperparamètre n_neighbors dans le modèle KNeighborsClassifier (k-plus proches voisins) détermine le nombre de voisins les plus proches à considérer lors de la classification d'un nouvel échantillon. Cet hyperparamètre influence la façon dont le modèle prend des décisions sur les étiquettes de classe."
   ]
  },
  {
   "cell_type": "code",
   "execution_count": null,
   "metadata": {},
   "outputs": [
    {
     "name": "stdout",
     "output_type": "stream",
     "text": [
      "0    0\n",
      "1    1\n",
      "2    1\n",
      "Name: survived, dtype: int64\n",
      "   pclass  sex   age\n",
      "0       3    0  22.0\n",
      "1       1    1  38.0\n",
      "2       3    1  26.0\n"
     ]
    }
   ],
   "source": [
    "filterwarnings(\"ignore\")\n",
    "# on instantie la classe du modele :\n",
    "model = KNeighborsClassifier(n_neighbors=5) # ajustement de l'hypermparamètre\n",
    "y = titanic['survived'] # on garde un tableau contenant les donées de la colonne 'survived'\n",
    "X = titanic.drop('survived', axis =1) # dans la methode drop, on doit toujours preciser l'axis du drop (suppression), là on supprime la colonne 'survived'\n",
    "print(y.head(3))\n",
    "print(X.head(3))"
   ]
  },
  {
   "cell_type": "markdown",
   "metadata": {},
   "source": [
    "## Entrainement du modèle :"
   ]
  },
  {
   "cell_type": "code",
   "execution_count": null,
   "metadata": {},
   "outputs": [
    {
     "name": "stdout",
     "output_type": "stream",
     "text": [
      "0.8417366946778712\n"
     ]
    },
    {
     "data": {
      "text/plain": [
       "array([[0],\n",
       "       [1],\n",
       "       [0],\n",
       "       [1],\n",
       "       [0],\n",
       "       [0],\n",
       "       [0],\n",
       "       [1],\n",
       "       [1],\n",
       "       [1]], dtype=int64)"
      ]
     },
     "execution_count": 6,
     "metadata": {},
     "output_type": "execute_result"
    }
   ],
   "source": [
    "model.fit(X,y) # Fit the k-nearest neighbors classifier from the training datase\n",
    "print(model.score(X,y)) # Return the mean accuracy on the given test data and labels.\n",
    "model.predict(X).reshape(len(y),1)[:10]"
   ]
  },
  {
   "cell_type": "markdown",
   "metadata": {},
   "source": [
    "### Définition d'une fonction ayant pour but de prédire la survie du passager : "
   ]
  },
  {
   "cell_type": "markdown",
   "metadata": {},
   "source": [
    "Il faut que notre fonction return quelque chose ressemblant à notre feature X donc il faut définir des paramètre 'pclass' 'sex' 'age'  :"
   ]
  },
  {
   "cell_type": "code",
   "execution_count": null,
   "metadata": {},
   "outputs": [],
   "source": [
    "def survie (model, pclass = 3, sex = 1, age = 28 ):\n",
    "    X = np.array([pclass, sex, age]).reshape(1,3)\n",
    "    return print(\"survie = \",model.predict(X),\"  \",\"probabilité de survie =\",model.predict_proba(X))"
   ]
  },
  {
   "cell_type": "code",
   "execution_count": null,
   "metadata": {},
   "outputs": [
    {
     "name": "stdout",
     "output_type": "stream",
     "text": [
      "survie =  [0]    probabilité de survie = [[0.8 0.2]]\n"
     ]
    }
   ],
   "source": [
    "survie(model,2,0,28)"
   ]
  },
  {
   "cell_type": "code",
   "execution_count": 20,
   "metadata": {},
   "outputs": [
    {
     "data": {
      "image/png": "[encoded data removed]",
      "text/plain": [
       "<Figure size 1200x500 with 2 Axes>"
      ]
     },
     "metadata": {},
     "output_type": "display_data"
    }
   ],
   "source": [
    "import matplotlib.pyplot as plt\n",
    "\n",
    "# Données réelles\n",
    "  # Vos données d'entrée réelles (pclass, sex, age)\n",
    "y_real = y  # Vos étiquettes réelles (survived)\n",
    "\n",
    "# Prédictions\n",
    " # Les mêmes données d'entrée pour les prédictions\n",
    "y_predictions = model.predict(X)  # Prédictions du modèle\n",
    "\n",
    "# Créez une figure avec deux sous-plots\n",
    "fig, (ax1, ax2) = plt.subplots(1, 2, figsize=(12, 5))\n",
    "\n",
    "# Sous-plot 1 : Données réelles\n",
    "ax1.scatter(X[y_real == 0]['age'], X[y_real == 0]['sex'], c='green', label='Not Survived', marker='x')\n",
    "ax1.scatter(X[y_real == 1]['age'], X[y_real == 1]['sex'], c='black', label='Survived', marker='.')\n",
    "ax1.set_xlabel('Age')\n",
    "ax1.set_ylabel('Sex')\n",
    "ax1.set_title('Real Data')\n",
    "ax1.legend()\n",
    "\n",
    "# Sous-plot 2 : Prédictions\n",
    "ax2.scatter(X[y_predictions == 0]['age'], X[y_predictions == 0]['sex'], c='red', label='Not Survived', marker='x')\n",
    "ax2.scatter(X[y_predictions == 1]['age'], X[y_predictions == 1]['sex'], c='blue', label='Survived', marker='.')\n",
    "ax2.set_xlabel('Age')\n",
    "ax2.set_ylabel('Sex')\n",
    "ax2.set_title('Predictions')\n",
    "ax2.legend()\n",
    "\n",
    "plt.tight_layout()\n",
    "plt.show()\n"
   ]
  },
  {
   "cell_type": "code",
   "execution_count": null,
   "metadata": {},
   "outputs": [],
   "source": []
  }
 ],
 "metadata": {
  "kernelspec": {
   "display_name": "Python 3",
   "language": "python",
   "name": "python3"
  },
  "language_info": {
   "codemirror_mode": {
    "name": "ipython",
    "version": 3
   },
   "file_extension": ".py",
   "mimetype": "text/x-python",
   "name": "python",
   "nbconvert_exporter": "python",
   "pygments_lexer": "ipython3",
   "version": "3.11.0"
  },
  "orig_nbformat": 4
 },
 "nbformat": 4,
 "nbformat_minor": 2
}
